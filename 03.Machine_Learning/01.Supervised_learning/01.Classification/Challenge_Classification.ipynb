{
 "cells": [
  {
   "cell_type": "markdown",
   "metadata": {},
   "source": [
    "# Who performs better?"
   ]
  },
  {
   "cell_type": "markdown",
   "metadata": {},
   "source": [
    "Hooray, you have seen all the classifiers. But who is better? There is no clear answer on that. Every classifier is good in different tasks. But you cannot know by heart. The most efficient way to find out who performs beteer is to test them. \n",
    "\n",
    "And here is the challenge. You have [this](https://www.kaggle.com/uciml/mushroom-classification) dataset and you need to clean, organize, etc the data, apply all the classifiers we have presented you (or if you fine any other interesting classifier, feel free to test him too), and see the results. Do a comparizon and finally decide who is \"better fit\" for this dataset. \n",
    "\n",
    "If you find this exciting, or you finish early, feel free to do the same in a dataset of your preference. "
   ]
  },
  {
   "cell_type": "markdown",
   "metadata": {},
   "source": [
    "Deadline: TBD"
   ]
  },
  {
   "cell_type": "code",
   "execution_count": null,
   "metadata": {},
   "outputs": [],
   "source": []
  }
 ],
 "metadata": {
  "kernelspec": {
   "display_name": "Python 3",
   "language": "python",
   "name": "python3"
  },
  "language_info": {
   "codemirror_mode": {
    "name": "ipython",
    "version": 3
   },
   "file_extension": ".py",
   "mimetype": "text/x-python",
   "name": "python",
   "nbconvert_exporter": "python",
   "pygments_lexer": "ipython3",
   "version": "3.7.5"
  }
 },
 "nbformat": 4,
 "nbformat_minor": 2
}
