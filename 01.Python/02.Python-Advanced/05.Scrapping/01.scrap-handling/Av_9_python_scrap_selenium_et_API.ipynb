{
 "cells": [
  {
   "cell_type": "markdown",
   "metadata": {},
   "source": [
    "### Today, we will scrape Producthunt with Selenium\n",
    "\n",
    "Selenium is a tool initially created to automate tests on websites. It is therefore very useful when information is accessible by clicking on links. A button for example is an element on which it is very difficult to obtain the link. Beautifull soup then becomes limited.\n",
    "In this case, use Selenium"
   ]
  },
  {
   "cell_type": "markdown",
   "metadata": {},
   "source": [
    "### Load libraries"
   ]
  },
  {
   "cell_type": "code",
   "execution_count": 1,
   "metadata": {
    "collapsed": true
   },
   "outputs": [],
   "source": [
    "import bs4\n",
    "import requests\n",
    "from bs4 import BeautifulSoup\n",
    "import numpy as np\n",
    "import pandas as pd\n",
    "import json\n",
    "import re\n",
    "import lxml.html\n",
    "import time\n",
    "import random\n",
    "from random import randint\n",
    "import logging\n",
    "import collections\n",
    "from time import gmtime, strftime\n",
    "\n",
    "import re\n",
    "from tabulate import tabulate\n",
    "import os\n",
    "date=strftime(\"%Y-%m-%d\")\n"
   ]
  },
  {
   "cell_type": "markdown",
   "metadata": {},
   "source": [
    "### Install Selenium according to this manual\n",
    "\n",
    "https://selenium-python.readthedocs.io/installation.html#downloading-python-bindings-for-selenium/bin\n",
    "\n",
    "nb: Linux: put your geckodriver (the downloaded extension) in the equivalent path at home to /home/YOURNAME/.local/bin"
   ]
  },
  {
   "cell_type": "markdown",
   "metadata": {},
   "source": [
    "We will simulate a search on the official Phython website"
   ]
  },
  {
   "cell_type": "code",
   "execution_count": 37,
   "metadata": {
    "collapsed": true
   },
   "outputs": [],
   "source": [
    "import selenium\n",
    "\n",
    "# The selenium.webdriver module provides all the implementations of WebDriver. WebDriver implementations \n",
    "# Currently supported are Firefox, Chrome, IE and Remote. The Keys class provides keys in \n",
    "# the keyboard such as RETURN, F1, ALT etc.\n",
    "from selenium import webdriver\n",
    "from selenium.webdriver.common.keys import Keys\n",
    "# Then, the instance of Firefox WebDriver is created.\n",
    "driver = webdriver.Firefox()\n",
    "# The driver.get method will lead to a page given by the URL. WebDriver will wait until the page is fully completed \n",
    "# loaded (i.e. the \"onload\" event has been triggered) before returning the control to your script. \n",
    "# It should be noted that if your page uses a lot of AJAX when loading, WebDriver may not know \n",
    "# when it was fully charged:\n",
    "driver.get(\"http://www.python.org\")\n",
    "# The following line is a statement confirming that the title contains the word \"Python\"\n",
    "assert \"Python\" in driver.title\n",
    "# WebDriver offers several methods to search for items using one of the methods \n",
    "# find_element_by_by_ * . For example, the input text element can be located by its name attribute by \n",
    "# using the find_element_by_name method \n",
    "elem = driver.find_element_by_name(\"q\")\n",
    "# Then we send keys. This is similar to entering keys using your keyboard. \n",
    "# Special keys can be sent using the imported selenium.webdriver.common.keys Keys class. \n",
    "# For security reasons, we will delete any pre-filled text in the input field \n",
    "# (for example, \"Search\") so that it does not affect our search results:\n",
    "\n",
    "\n",
    "elem.clear()\n",
    "elem.send_keys(\"pycon\")\n",
    "elem.send_keys(Keys.RETURN)\n",
    "\n",
    "#After submitting the page, you should get the result if there is one. To ensure that certain results \n",
    "# are found, make an assertion:\n",
    "assert \"No results found.\" not in driver.page_source\n",
    "driver.close()"
   ]
  },
  {
   "cell_type": "markdown",
   "metadata": {},
   "source": [
    "#### Open the source code of this page (HTML) and check that the search area (field) is called \"q\".\n",
    "\n",
    "input id=\"id-search-field\" name=\"q\" type=\"search\" role=\"textbox\" class=\"search-field placeholder\" placeholder=\"Search\" value=\"\" tabindex=\"1\""
   ]
  },
  {
   "cell_type": "code",
   "execution_count": null,
   "metadata": {
    "collapsed": true
   },
   "outputs": [],
   "source": []
  },
  {
   "cell_type": "markdown",
   "metadata": {},
   "source": [
    "### Getting a phone number from an ad in the right place"
   ]
  },
  {
   "cell_type": "code",
   "execution_count": null,
   "metadata": {},
   "outputs": [],
   "source": [
    "from selenium import webdriver\n",
    "from selenium.webdriver.support.ui import WebDriverWait\n",
    "from selenium.webdriver.support import expected_conditions as EC\n",
    "from selenium.common.exceptions import TimeoutException\n",
    "from selenium.webdriver.common.by import By\n",
    "\n",
    "url='https://www.leboncoin.fr/sports_hobbies/1536839557.htm/'\n",
    "\n",
    "driver = webdriver.Firefox()\n",
    "driver.implicitly_wait(30)\n",
    "driver.get(url)\n",
    "\n",
    "\n",
    "python_button = driver.find_elements_by_xpath('//div[@data-reactid=\"269\"]')[0]\n",
    "python_button.click()\n",
    "\n",
    "# And then it's like Beautiful soup\n",
    "soup=BeautifulSoup(driver.page_source)\n",
    "\n",
    "driver.close()\n",
    "\n",
    "# And then it's like Beautiful soup\n",
    "for elem in soup.find_all('a',attrs={\"data-qa-id\" :\"adview_number_phone_contact\" }):\n",
    "    print(elem.text)"
   ]
  },
  {
   "cell_type": "markdown",
   "metadata": {},
   "source": [
    "### Starting from an ad in the right place, collect all the information available to define the product being sold. Use selenium for the telephone number"
   ]
  },
  {
   "cell_type": "code",
   "execution_count": null,
   "metadata": {
    "collapsed": true
   },
   "outputs": [],
   "source": []
  },
  {
   "cell_type": "markdown",
   "metadata": {},
   "source": [
    "### API (Application Program Interface)"
   ]
  },
  {
   "cell_type": "markdown",
   "metadata": {},
   "source": [
    "A set of tools and methods that allow different applications to interact with each other. In the case of a web service, we can retrieve data dynamically. By using an API correctly, we can thus obtain in real time, the modifications made on a \"parent\" site.\n",
    "\n",
    "For example, we will retrieve online news, for example from the \"L'équipe\" website."
   ]
  },
  {
   "cell_type": "markdown",
   "metadata": {},
   "source": [
    "Follow the instructions at https://newsapi.org/s/lequipe-api to retrieve an \"API key\" connection key"
   ]
  },
  {
   "cell_type": "markdown",
   "metadata": {},
   "source": [
    "Your API key is: 73bbb95f8ecb49b499113a46481b4af1\n",
    "\n",
    "\n",
    "It is frequent that a key does not work after a while 5mins 30 mins 1 d ...\n",
    "So don't jump up if you get an error message back."
   ]
  },
  {
   "cell_type": "code",
   "execution_count": 101,
   "metadata": {
    "scrolled": true
   },
   "outputs": [
    {
     "name": "stdout",
     "output_type": "stream",
     "text": [
      "{'status': 'ok', 'totalResults': 10, 'articles': [{'source': {'id': 'lequipe', 'name': \"L'equipe\"}, 'author': \"L'EQUIPE\", 'title': 'Real Madrid : Gareth Bale met fin à sa disette d&#039;une belle reprise de volée face à Huesca (vidéo)', 'description': \"L'attaquant du Real Madrid Gareth Bale a mis fin ce dimance à sa disette en Liga en ouvrant le score face à Huesca d'une belle reprise.\", 'url': 'https://www.lequipe.fr/Football/Actualites/Real-madrid-gareth-bale-met-fin-a-sa-disette-d-une-belle-reprise-de-volee-face-a-huesca-video/966796', 'urlToImage': 'https://medias.lequipe.fr/img-photo-jpg/-oscar-j-barroso-oscar-j-barroso-afp7/1500000001061170/0:0,2000:1333-624-416-75/cb91a.jpg', 'publishedAt': '2018-12-09T16:02:00+00:00', 'content': \"801 minutes. C'est le temps de jeu qui séparait le dernier but de Gareth Bale en Liga de celui qu'il a inscrit ce dimanche en ouvrant le score sur le terrain d'Huesca. Le Gallois a repris de belle manière un centre d'Odriozola pour mettre fin à sa disette (8e… [+1 chars]\"}, {'source': {'id': 'lequipe', 'name': \"L'equipe\"}, 'author': \"L'EQUIPE\", 'title': 'Coupe du monde\\xa0: le premier relais français à la cinquième place du 4 x 7,5\\xa0km', 'description': 'Le premier relais français, composé de Jean-Marc Gaillard, Adrien Backscheider, Clément Parisse et Renaud Jay, est arrivé en 5e position du relais de 4 x 7,5\\xa0km de Beitostolen, en Norvège dimanche.', 'url': 'https://www.lequipe.fr/Ski-de-fond/Actualites/Coupe-du-monde-le-premier-relais-francais-a-la-cinquieme-place-du-4-x-7-5-km/966793', 'urlToImage': 'https://medias.lequipe.fr/img-photo-jpg/renaud-jay-etait-le-dernier-relayeur-tricolore-dimanche-a-beitostolen-presse-sport/1500000001061165/257:191,1431:974-624-416-75/c8d57.jpg', 'publishedAt': '2018-12-09T15:55:00+00:00', 'content': 'Jean-Marc Gaillard, Adrien Backscheider, Clément Parisse et Renaud Jay ont conduit le premier relais français à la cinquième place du 4 x 7,5 km de Beitostolen, en Norvège dimanche. Les Bleus ont terminé fort dans un peloton de sept équipes à la lutte pour la… [+649 chars]'}, {'source': {'id': 'lequipe', 'name': \"L'equipe\"}, 'author': \"L'EQUIPE\", 'title': 'Ligue 1 : Strasbourg et Caen se séparent dos à dos', 'description': \"Strasbourg et Caen n'ont su se départager lors de la 17e journée de L1 (2-2).\", 'url': 'https://www.lequipe.fr/Football/Actualites/Ligue-1-strasbourg-et-caen-se-separent-dos-a-dos/966792', 'urlToImage': 'https://medias.lequipe.fr/img-photo-jpg/les-deux-equipes-se-sont-separees-s-bozon-afp/1500000001061162/0:0,2000:1333-624-416-75/29ab5.jpg', 'publishedAt': '2018-12-09T15:51:00+00:00', 'content': \"Quand l'arbitre a désigné le point de penalty en faveur de Strasbourg à la 83e minute, La Meinau a exulté, croyant déjà à la promesse d'une victoire in extremis contre Caen. Olivier Thual a néanmoins pris le temps de revoir la vidéo de l'action litigieuse : S… [+981 chars]\"}, {'source': {'id': 'lequipe', 'name': \"L'equipe\"}, 'author': \"L'EQUIPE\", 'title': 'D1 féminine : Diani et le PSG tiennent la cadence de l&#039;OL', 'description': \"Après la large victoire de l'OL à Soyaux samedi (6-0), le PSG féminin a parfaitement répondu ce dimanche, en remportant le derby contre le Paris FC à Bondoufle (3-1).\", 'url': 'https://www.lequipe.fr/Football/Actualites/D1-feminine-diani-et-le-psg-tiennent-la-cadence-de-l-ol/966790', 'urlToImage': 'https://medias.lequipe.fr/img-photo-jpg/kadidiatou-diani-a-signe-un-double-salvateur-a-mounic-l-equipe/1500000001061161/0:0,2000:1333-624-416-75/f92fc.jpg', 'publishedAt': '2018-12-09T15:50:00+00:00', 'content': \"Le mano a mano entre Lyon et le PSG en tête de la D1 féminine se poursuit. Après la large victoire de l'OL sur le terrain de Soyaux samedi (6-0), avec un doublé de la Ballon d'Or France Football Ada Hegerberg, le PSG, son dauphin, a assuré ce dimanche, lors d… [+432 chars]\"}, {'source': {'id': 'lequipe', 'name': \"L'equipe\"}, 'author': \"L'EQUIPE\", 'title': 'Pro D2 (14e journée)\\xa0: Oyonnax s&#039;impose à Carcassonne', 'description': \"Oyonnax s'est imposé sur le terrain de Carcassonne (21-13), dimanche en clôture de la 14e journée de Pro D2.\", 'url': 'https://www.lequipe.fr/Rugby/Actualites/Pro-d2-14e-journee-oyonnax-s-impose-a-carcassonne/966788', 'urlToImage': 'https://medias.lequipe.fr/img-photo-jpg/quentin-etienne-a-marque-le-deuxieme-essai-d-oyonnax-face-a-carcassonne-s-thomas-l-equipe/1500000001061160/210:237,1382:1019-624-416-75/54249.jpg', 'publishedAt': '2018-12-09T15:49:00+00:00', 'content': \"Oyonnax était juste devant Carcassonne au commencement de la 14e journée de Pro D2 jeudi. Ce sont les Audois qui recevaient dimanche, mais c'est Oyonnax qui est reparti avec la victoire (21-13) et a creusé l'écart au classement avec son adversaire du jour. A … [+545 chars]\"}, {'source': {'id': 'lequipe', 'name': \"L'equipe\"}, 'author': \"L'EQUIPE\", 'title': 'Grèce : l&#039;Olympiakos freiné sur le terrain de Xanthi', 'description': \"Dauphin du PAOK Salonique, l'Olympiakos a été freiné sur le terrain de Xanthi ce dimanche, en concédant un match nul (1-1).\", 'url': 'https://www.lequipe.fr/Football/Actualites/Grece-l-olympiakos-freine-sur-le-terrain-de-xanthi/966787', 'urlToImage': 'https://medias.lequipe.fr/img-photo-jpg/fortounis-a-delivre-une-passe-decisive-presse-sports/1500000001061158/35:85,1570:1109-624-416-75/cd179.jpg', 'publishedAt': '2018-12-09T15:46:00+00:00', 'content': \"Alors que le PAOK Salonique accueille Larissa un peu plus tard ce dimanche (18h30), le leader du championnat de Grèce a vu son dauphin l'Olympiakos être accroché sur le terrain de Xanthi (1-1). Le Néerlandais Jeffrey Sarpong a ouvert le score pour les locaux … [+262 chars]\"}, {'source': {'id': 'lequipe', 'name': \"L'equipe\"}, 'author': \"L'EQUIPE\", 'title': 'Lille : Rafael Leão et Luiz Araujo titulaires contre Reims', 'description': \"L'entraîneur lillois Christophe Galtier a décidé de titulariser Rafael Leão et Luiz Araujo pour la réception de Reims (17 heures) en Ligue 1.\", 'url': 'https://www.lequipe.fr/Football/Actualites/Lille-rafael-leao-et-luiz-araujo-titulaires-contre-reims/966783', 'urlToImage': 'https://medias.lequipe.fr/img-photo-jpg/rafael-leao-est-titulaire-avec-lille-s-boue-l-equipe/1500000001061148/0:0,2000:1333-624-416-75/4d42a.jpg', 'publishedAt': '2018-12-09T15:34:00+00:00', 'content': \"Trois jours après son succès à Montpellier (1-0), Lille affronte Reims en Ligue 1 (17 heures) avec Rafael Leão à la pointe de l'attaque du 4-2-3-1. Christophe Galtier, l'entraîneur du dauphin du PSG, qui a également titularisé Luiz Araujo, a laissé sur le ban… [+384 chars]\"}, {'source': {'id': 'lequipe', 'name': \"L'equipe\"}, 'author': \"L'EQUIPE\", 'title': 'Euro 2018 : les Bleues tenues en échec par la Suède', 'description': \"Au bout d'un duel étouffant, l'équipe de France a concédé le nul face à la Suède (21-21), dimanche à Nantes, et devra impérativement l'emporter contre la Serbie mercredi pour jouer les demies.\", 'url': 'https://www.lequipe.fr/Handball/Actualites/Euro-2018-les-bleues-tenues-en-echec-par-la-suede/966781', 'urlToImage': 'https://medias.lequipe.fr/img-photo-jpg/la-france-a-bute-sur-la-defense-suedoise-e-garnier-l-equipe/1500000001061147/0:0,2000:1333-624-416-75/0610c.jpg', 'publishedAt': '2018-12-09T15:32:00+00:00', 'content': \"Avec un jour de retard en raison du mouvement des gilets jaunes, l'équipe de France est passée au révélateur suédois ce dimanche, un match piégeux face à une équipe au bord du gouffre et qui n'avait plus rien à perdre. «Ça fait quelques matches qu'on les joue… [+2473 chars]\"}, {'source': {'id': 'lequipe', 'name': \"L'equipe\"}, 'author': \"L'EQUIPE\", 'title': 'Les Rangers ratent l&#039;occasion de revenir sur le Celtic', 'description': 'Les Glasgow Rangers de Steven Gerrard ont été tenus en échec dimanche par Dundee (1-1) et restent à deux points de leurs rivaux du Celtic.', 'url': 'https://www.lequipe.fr/Football/Actualites/Les-rangers-ratent-l-occasion-de-revenir-sur-le-celtic/966780', 'urlToImage': 'https://medias.lequipe.fr/img-photo-jpg/les-rangers-de-gerrard-restent-a-deux-points-du-celtic-f-mons-l-equipe/1500000001061146/0:0,2000:1333-624-416-75/0b5cb.jpg', 'publishedAt': '2018-12-09T15:32:00+00:00', 'content': \"Les Rangers avaient l'occasion dimanche de revenir sur le Celtic. Ils n'ont pas su la saisir contre Dundee (1-1). Menés au score dès la 9e minute sur un but du vétéran Kenny Miller (38 ans), ils ont évolué à onze contre dix pendant plus d'une heure à la suite… [+250 chars]\"}, {'source': {'id': 'lequipe', 'name': \"L'equipe\"}, 'author': \"L'EQUIPE\", 'title': 'Saint-Etienne : 10 jours de repos au moins pour Neven Subotic', 'description': 'Après son traumatisme crânien contre Bordeaux, le défenseur de Saint-Étienne Neven Subotic va être au repos pendant au moins 10 jours.', 'url': 'https://www.lequipe.fr/Football/Actualites/Saint-etienne-10-jours-de-repos-au-moins-pour-neven-subotic/966777', 'urlToImage': 'https://medias.lequipe.fr/img-photo-jpg/neven-subotic-sera-au-repos-10-jours-n-luttiau-l-equipe/1500000001061138/0:0,1995:1330-624-416-75/5e952.jpg', 'publishedAt': '2018-12-09T15:18:00+00:00', 'content': \"Victime d'un traumatisme crânien mercredi à Bordeaux, Neven Subotic devra observer une période de repos de dix jours, selon un communiqué publié sur le site de Saint-Etienne, ce dimanche. Le défenseur central a été ausculté à Clermont-Ferrand par un neurologu… [+599 chars]\"}]}\n"
     ]
    }
   ],
   "source": [
    "import requests\n",
    "key='73bbb95f8ecb49b499113a46481b4af1'\n",
    "url ='https://newsapi.org/v2/top-headlines?sources=lequipe&apiKey='+key\n",
    "response = requests.get(url)\n",
    "\n",
    "# Here the response format is a json file, it is used as a dictionary\n",
    "\n",
    "print (response.json())"
   ]
  },
  {
   "cell_type": "code",
   "execution_count": 103,
   "metadata": {},
   "outputs": [
    {
     "name": "stdout",
     "output_type": "stream",
     "text": [
      "dict_keys(['status', 'totalResults', 'articles'])\n"
     ]
    }
   ],
   "source": [
    "dic=response.json()\n",
    "print(dic.keys())"
   ]
  },
  {
   "cell_type": "code",
   "execution_count": 109,
   "metadata": {
    "scrolled": true
   },
   "outputs": [
    {
     "name": "stdout",
     "output_type": "stream",
     "text": [
      "##############################################\n",
      "clé:  status // values:  ok\n",
      "##############################################\n",
      "clé:  totalResults // values:  10\n",
      "##############################################\n",
      "clé:  articles // values:  [{'source': {'id': 'lequipe', 'name': \"L'equipe\"}, 'author': \"L'EQUIPE\", 'title': 'Real Madrid : Gareth Bale met fin à sa disette d&#039;une belle reprise de volée face à Huesca (vidéo)', 'description': \"L'attaquant du Real Madrid Gareth Bale a mis fin ce dimance à sa disette en Liga en ouvrant le score face à Huesca d'une belle reprise.\", 'url': 'https://www.lequipe.fr/Football/Actualites/Real-madrid-gareth-bale-met-fin-a-sa-disette-d-une-belle-reprise-de-volee-face-a-huesca-video/966796', 'urlToImage': 'https://medias.lequipe.fr/img-photo-jpg/-oscar-j-barroso-oscar-j-barroso-afp7/1500000001061170/0:0,2000:1333-624-416-75/cb91a.jpg', 'publishedAt': '2018-12-09T16:02:00+00:00', 'content': \"801 minutes. C'est le temps de jeu qui séparait le dernier but de Gareth Bale en Liga de celui qu'il a inscrit ce dimanche en ouvrant le score sur le terrain d'Huesca. Le Gallois a repris de belle manière un centre d'Odriozola pour mettre fin à sa disette (8e… [+1 chars]\"}, {'source': {'id': 'lequipe', 'name': \"L'equipe\"}, 'author': \"L'EQUIPE\", 'title': 'Coupe du monde\\xa0: le premier relais français à la cinquième place du 4 x 7,5\\xa0km', 'description': 'Le premier relais français, composé de Jean-Marc Gaillard, Adrien Backscheider, Clément Parisse et Renaud Jay, est arrivé en 5e position du relais de 4 x 7,5\\xa0km de Beitostolen, en Norvège dimanche.', 'url': 'https://www.lequipe.fr/Ski-de-fond/Actualites/Coupe-du-monde-le-premier-relais-francais-a-la-cinquieme-place-du-4-x-7-5-km/966793', 'urlToImage': 'https://medias.lequipe.fr/img-photo-jpg/renaud-jay-etait-le-dernier-relayeur-tricolore-dimanche-a-beitostolen-presse-sport/1500000001061165/257:191,1431:974-624-416-75/c8d57.jpg', 'publishedAt': '2018-12-09T15:55:00+00:00', 'content': 'Jean-Marc Gaillard, Adrien Backscheider, Clément Parisse et Renaud Jay ont conduit le premier relais français à la cinquième place du 4 x 7,5 km de Beitostolen, en Norvège dimanche. Les Bleus ont terminé fort dans un peloton de sept équipes à la lutte pour la… [+649 chars]'}, {'source': {'id': 'lequipe', 'name': \"L'equipe\"}, 'author': \"L'EQUIPE\", 'title': 'Ligue 1 : Strasbourg et Caen se séparent dos à dos', 'description': \"Strasbourg et Caen n'ont su se départager lors de la 17e journée de L1 (2-2).\", 'url': 'https://www.lequipe.fr/Football/Actualites/Ligue-1-strasbourg-et-caen-se-separent-dos-a-dos/966792', 'urlToImage': 'https://medias.lequipe.fr/img-photo-jpg/les-deux-equipes-se-sont-separees-s-bozon-afp/1500000001061162/0:0,2000:1333-624-416-75/29ab5.jpg', 'publishedAt': '2018-12-09T15:51:00+00:00', 'content': \"Quand l'arbitre a désigné le point de penalty en faveur de Strasbourg à la 83e minute, La Meinau a exulté, croyant déjà à la promesse d'une victoire in extremis contre Caen. Olivier Thual a néanmoins pris le temps de revoir la vidéo de l'action litigieuse : S… [+981 chars]\"}, {'source': {'id': 'lequipe', 'name': \"L'equipe\"}, 'author': \"L'EQUIPE\", 'title': 'D1 féminine : Diani et le PSG tiennent la cadence de l&#039;OL', 'description': \"Après la large victoire de l'OL à Soyaux samedi (6-0), le PSG féminin a parfaitement répondu ce dimanche, en remportant le derby contre le Paris FC à Bondoufle (3-1).\", 'url': 'https://www.lequipe.fr/Football/Actualites/D1-feminine-diani-et-le-psg-tiennent-la-cadence-de-l-ol/966790', 'urlToImage': 'https://medias.lequipe.fr/img-photo-jpg/kadidiatou-diani-a-signe-un-double-salvateur-a-mounic-l-equipe/1500000001061161/0:0,2000:1333-624-416-75/f92fc.jpg', 'publishedAt': '2018-12-09T15:50:00+00:00', 'content': \"Le mano a mano entre Lyon et le PSG en tête de la D1 féminine se poursuit. Après la large victoire de l'OL sur le terrain de Soyaux samedi (6-0), avec un doublé de la Ballon d'Or France Football Ada Hegerberg, le PSG, son dauphin, a assuré ce dimanche, lors d… [+432 chars]\"}, {'source': {'id': 'lequipe', 'name': \"L'equipe\"}, 'author': \"L'EQUIPE\", 'title': 'Pro D2 (14e journée)\\xa0: Oyonnax s&#039;impose à Carcassonne', 'description': \"Oyonnax s'est imposé sur le terrain de Carcassonne (21-13), dimanche en clôture de la 14e journée de Pro D2.\", 'url': 'https://www.lequipe.fr/Rugby/Actualites/Pro-d2-14e-journee-oyonnax-s-impose-a-carcassonne/966788', 'urlToImage': 'https://medias.lequipe.fr/img-photo-jpg/quentin-etienne-a-marque-le-deuxieme-essai-d-oyonnax-face-a-carcassonne-s-thomas-l-equipe/1500000001061160/210:237,1382:1019-624-416-75/54249.jpg', 'publishedAt': '2018-12-09T15:49:00+00:00', 'content': \"Oyonnax était juste devant Carcassonne au commencement de la 14e journée de Pro D2 jeudi. Ce sont les Audois qui recevaient dimanche, mais c'est Oyonnax qui est reparti avec la victoire (21-13) et a creusé l'écart au classement avec son adversaire du jour. A … [+545 chars]\"}, {'source': {'id': 'lequipe', 'name': \"L'equipe\"}, 'author': \"L'EQUIPE\", 'title': 'Grèce : l&#039;Olympiakos freiné sur le terrain de Xanthi', 'description': \"Dauphin du PAOK Salonique, l'Olympiakos a été freiné sur le terrain de Xanthi ce dimanche, en concédant un match nul (1-1).\", 'url': 'https://www.lequipe.fr/Football/Actualites/Grece-l-olympiakos-freine-sur-le-terrain-de-xanthi/966787', 'urlToImage': 'https://medias.lequipe.fr/img-photo-jpg/fortounis-a-delivre-une-passe-decisive-presse-sports/1500000001061158/35:85,1570:1109-624-416-75/cd179.jpg', 'publishedAt': '2018-12-09T15:46:00+00:00', 'content': \"Alors que le PAOK Salonique accueille Larissa un peu plus tard ce dimanche (18h30), le leader du championnat de Grèce a vu son dauphin l'Olympiakos être accroché sur le terrain de Xanthi (1-1). Le Néerlandais Jeffrey Sarpong a ouvert le score pour les locaux … [+262 chars]\"}, {'source': {'id': 'lequipe', 'name': \"L'equipe\"}, 'author': \"L'EQUIPE\", 'title': 'Lille : Rafael Leão et Luiz Araujo titulaires contre Reims', 'description': \"L'entraîneur lillois Christophe Galtier a décidé de titulariser Rafael Leão et Luiz Araujo pour la réception de Reims (17 heures) en Ligue 1.\", 'url': 'https://www.lequipe.fr/Football/Actualites/Lille-rafael-leao-et-luiz-araujo-titulaires-contre-reims/966783', 'urlToImage': 'https://medias.lequipe.fr/img-photo-jpg/rafael-leao-est-titulaire-avec-lille-s-boue-l-equipe/1500000001061148/0:0,2000:1333-624-416-75/4d42a.jpg', 'publishedAt': '2018-12-09T15:34:00+00:00', 'content': \"Trois jours après son succès à Montpellier (1-0), Lille affronte Reims en Ligue 1 (17 heures) avec Rafael Leão à la pointe de l'attaque du 4-2-3-1. Christophe Galtier, l'entraîneur du dauphin du PSG, qui a également titularisé Luiz Araujo, a laissé sur le ban… [+384 chars]\"}, {'source': {'id': 'lequipe', 'name': \"L'equipe\"}, 'author': \"L'EQUIPE\", 'title': 'Euro 2018 : les Bleues tenues en échec par la Suède', 'description': \"Au bout d'un duel étouffant, l'équipe de France a concédé le nul face à la Suède (21-21), dimanche à Nantes, et devra impérativement l'emporter contre la Serbie mercredi pour jouer les demies.\", 'url': 'https://www.lequipe.fr/Handball/Actualites/Euro-2018-les-bleues-tenues-en-echec-par-la-suede/966781', 'urlToImage': 'https://medias.lequipe.fr/img-photo-jpg/la-france-a-bute-sur-la-defense-suedoise-e-garnier-l-equipe/1500000001061147/0:0,2000:1333-624-416-75/0610c.jpg', 'publishedAt': '2018-12-09T15:32:00+00:00', 'content': \"Avec un jour de retard en raison du mouvement des gilets jaunes, l'équipe de France est passée au révélateur suédois ce dimanche, un match piégeux face à une équipe au bord du gouffre et qui n'avait plus rien à perdre. «Ça fait quelques matches qu'on les joue… [+2473 chars]\"}, {'source': {'id': 'lequipe', 'name': \"L'equipe\"}, 'author': \"L'EQUIPE\", 'title': 'Les Rangers ratent l&#039;occasion de revenir sur le Celtic', 'description': 'Les Glasgow Rangers de Steven Gerrard ont été tenus en échec dimanche par Dundee (1-1) et restent à deux points de leurs rivaux du Celtic.', 'url': 'https://www.lequipe.fr/Football/Actualites/Les-rangers-ratent-l-occasion-de-revenir-sur-le-celtic/966780', 'urlToImage': 'https://medias.lequipe.fr/img-photo-jpg/les-rangers-de-gerrard-restent-a-deux-points-du-celtic-f-mons-l-equipe/1500000001061146/0:0,2000:1333-624-416-75/0b5cb.jpg', 'publishedAt': '2018-12-09T15:32:00+00:00', 'content': \"Les Rangers avaient l'occasion dimanche de revenir sur le Celtic. Ils n'ont pas su la saisir contre Dundee (1-1). Menés au score dès la 9e minute sur un but du vétéran Kenny Miller (38 ans), ils ont évolué à onze contre dix pendant plus d'une heure à la suite… [+250 chars]\"}, {'source': {'id': 'lequipe', 'name': \"L'equipe\"}, 'author': \"L'EQUIPE\", 'title': 'Saint-Etienne : 10 jours de repos au moins pour Neven Subotic', 'description': 'Après son traumatisme crânien contre Bordeaux, le défenseur de Saint-Étienne Neven Subotic va être au repos pendant au moins 10 jours.', 'url': 'https://www.lequipe.fr/Football/Actualites/Saint-etienne-10-jours-de-repos-au-moins-pour-neven-subotic/966777', 'urlToImage': 'https://medias.lequipe.fr/img-photo-jpg/neven-subotic-sera-au-repos-10-jours-n-luttiau-l-equipe/1500000001061138/0:0,1995:1330-624-416-75/5e952.jpg', 'publishedAt': '2018-12-09T15:18:00+00:00', 'content': \"Victime d'un traumatisme crânien mercredi à Bordeaux, Neven Subotic devra observer une période de repos de dix jours, selon un communiqué publié sur le site de Saint-Etienne, ce dimanche. Le défenseur central a été ausculté à Clermont-Ferrand par un neurologu… [+599 chars]\"}]\n"
     ]
    }
   ],
   "source": [
    "for elem in list(dic.keys()):\n",
    "    print('##############################################')\n",
    "    print(\"clé: \",elem,\"// values: \", dic[elem])"
   ]
  },
  {
   "cell_type": "code",
   "execution_count": 123,
   "metadata": {
    "scrolled": true
   },
   "outputs": [
    {
     "name": "stdout",
     "output_type": "stream",
     "text": [
      "###############################################\n",
      "(0, {'source': {'id': 'lequipe', 'name': \"L'equipe\"}, 'author': \"L'EQUIPE\", 'title': 'Real Madrid : Gareth Bale met fin à sa disette d&#039;une belle reprise de volée face à Huesca (vidéo)', 'description': \"L'attaquant du Real Madrid Gareth Bale a mis fin ce dimance à sa disette en Liga en ouvrant le score face à Huesca d'une belle reprise.\", 'url': 'https://www.lequipe.fr/Football/Actualites/Real-madrid-gareth-bale-met-fin-a-sa-disette-d-une-belle-reprise-de-volee-face-a-huesca-video/966796', 'urlToImage': 'https://medias.lequipe.fr/img-photo-jpg/-oscar-j-barroso-oscar-j-barroso-afp7/1500000001061170/0:0,2000:1333-624-416-75/cb91a.jpg', 'publishedAt': '2018-12-09T16:02:00+00:00', 'content': \"801 minutes. C'est le temps de jeu qui séparait le dernier but de Gareth Bale en Liga de celui qu'il a inscrit ce dimanche en ouvrant le score sur le terrain d'Huesca. Le Gallois a repris de belle manière un centre d'Odriozola pour mettre fin à sa disette (8e… [+1 chars]\"})\n",
      "###############################################\n",
      "(1, {'source': {'id': 'lequipe', 'name': \"L'equipe\"}, 'author': \"L'EQUIPE\", 'title': 'Coupe du monde\\xa0: le premier relais français à la cinquième place du 4 x 7,5\\xa0km', 'description': 'Le premier relais français, composé de Jean-Marc Gaillard, Adrien Backscheider, Clément Parisse et Renaud Jay, est arrivé en 5e position du relais de 4 x 7,5\\xa0km de Beitostolen, en Norvège dimanche.', 'url': 'https://www.lequipe.fr/Ski-de-fond/Actualites/Coupe-du-monde-le-premier-relais-francais-a-la-cinquieme-place-du-4-x-7-5-km/966793', 'urlToImage': 'https://medias.lequipe.fr/img-photo-jpg/renaud-jay-etait-le-dernier-relayeur-tricolore-dimanche-a-beitostolen-presse-sport/1500000001061165/257:191,1431:974-624-416-75/c8d57.jpg', 'publishedAt': '2018-12-09T15:55:00+00:00', 'content': 'Jean-Marc Gaillard, Adrien Backscheider, Clément Parisse et Renaud Jay ont conduit le premier relais français à la cinquième place du 4 x 7,5 km de Beitostolen, en Norvège dimanche. Les Bleus ont terminé fort dans un peloton de sept équipes à la lutte pour la… [+649 chars]'})\n",
      "###############################################\n",
      "(2, {'source': {'id': 'lequipe', 'name': \"L'equipe\"}, 'author': \"L'EQUIPE\", 'title': 'Ligue 1 : Strasbourg et Caen se séparent dos à dos', 'description': \"Strasbourg et Caen n'ont su se départager lors de la 17e journée de L1 (2-2).\", 'url': 'https://www.lequipe.fr/Football/Actualites/Ligue-1-strasbourg-et-caen-se-separent-dos-a-dos/966792', 'urlToImage': 'https://medias.lequipe.fr/img-photo-jpg/les-deux-equipes-se-sont-separees-s-bozon-afp/1500000001061162/0:0,2000:1333-624-416-75/29ab5.jpg', 'publishedAt': '2018-12-09T15:51:00+00:00', 'content': \"Quand l'arbitre a désigné le point de penalty en faveur de Strasbourg à la 83e minute, La Meinau a exulté, croyant déjà à la promesse d'une victoire in extremis contre Caen. Olivier Thual a néanmoins pris le temps de revoir la vidéo de l'action litigieuse : S… [+981 chars]\"})\n",
      "###############################################\n",
      "(3, {'source': {'id': 'lequipe', 'name': \"L'equipe\"}, 'author': \"L'EQUIPE\", 'title': 'D1 féminine : Diani et le PSG tiennent la cadence de l&#039;OL', 'description': \"Après la large victoire de l'OL à Soyaux samedi (6-0), le PSG féminin a parfaitement répondu ce dimanche, en remportant le derby contre le Paris FC à Bondoufle (3-1).\", 'url': 'https://www.lequipe.fr/Football/Actualites/D1-feminine-diani-et-le-psg-tiennent-la-cadence-de-l-ol/966790', 'urlToImage': 'https://medias.lequipe.fr/img-photo-jpg/kadidiatou-diani-a-signe-un-double-salvateur-a-mounic-l-equipe/1500000001061161/0:0,2000:1333-624-416-75/f92fc.jpg', 'publishedAt': '2018-12-09T15:50:00+00:00', 'content': \"Le mano a mano entre Lyon et le PSG en tête de la D1 féminine se poursuit. Après la large victoire de l'OL sur le terrain de Soyaux samedi (6-0), avec un doublé de la Ballon d'Or France Football Ada Hegerberg, le PSG, son dauphin, a assuré ce dimanche, lors d… [+432 chars]\"})\n",
      "###############################################\n",
      "(4, {'source': {'id': 'lequipe', 'name': \"L'equipe\"}, 'author': \"L'EQUIPE\", 'title': 'Pro D2 (14e journée)\\xa0: Oyonnax s&#039;impose à Carcassonne', 'description': \"Oyonnax s'est imposé sur le terrain de Carcassonne (21-13), dimanche en clôture de la 14e journée de Pro D2.\", 'url': 'https://www.lequipe.fr/Rugby/Actualites/Pro-d2-14e-journee-oyonnax-s-impose-a-carcassonne/966788', 'urlToImage': 'https://medias.lequipe.fr/img-photo-jpg/quentin-etienne-a-marque-le-deuxieme-essai-d-oyonnax-face-a-carcassonne-s-thomas-l-equipe/1500000001061160/210:237,1382:1019-624-416-75/54249.jpg', 'publishedAt': '2018-12-09T15:49:00+00:00', 'content': \"Oyonnax était juste devant Carcassonne au commencement de la 14e journée de Pro D2 jeudi. Ce sont les Audois qui recevaient dimanche, mais c'est Oyonnax qui est reparti avec la victoire (21-13) et a creusé l'écart au classement avec son adversaire du jour. A … [+545 chars]\"})\n",
      "###############################################\n",
      "(5, {'source': {'id': 'lequipe', 'name': \"L'equipe\"}, 'author': \"L'EQUIPE\", 'title': 'Grèce : l&#039;Olympiakos freiné sur le terrain de Xanthi', 'description': \"Dauphin du PAOK Salonique, l'Olympiakos a été freiné sur le terrain de Xanthi ce dimanche, en concédant un match nul (1-1).\", 'url': 'https://www.lequipe.fr/Football/Actualites/Grece-l-olympiakos-freine-sur-le-terrain-de-xanthi/966787', 'urlToImage': 'https://medias.lequipe.fr/img-photo-jpg/fortounis-a-delivre-une-passe-decisive-presse-sports/1500000001061158/35:85,1570:1109-624-416-75/cd179.jpg', 'publishedAt': '2018-12-09T15:46:00+00:00', 'content': \"Alors que le PAOK Salonique accueille Larissa un peu plus tard ce dimanche (18h30), le leader du championnat de Grèce a vu son dauphin l'Olympiakos être accroché sur le terrain de Xanthi (1-1). Le Néerlandais Jeffrey Sarpong a ouvert le score pour les locaux … [+262 chars]\"})\n",
      "###############################################\n",
      "(6, {'source': {'id': 'lequipe', 'name': \"L'equipe\"}, 'author': \"L'EQUIPE\", 'title': 'Lille : Rafael Leão et Luiz Araujo titulaires contre Reims', 'description': \"L'entraîneur lillois Christophe Galtier a décidé de titulariser Rafael Leão et Luiz Araujo pour la réception de Reims (17 heures) en Ligue 1.\", 'url': 'https://www.lequipe.fr/Football/Actualites/Lille-rafael-leao-et-luiz-araujo-titulaires-contre-reims/966783', 'urlToImage': 'https://medias.lequipe.fr/img-photo-jpg/rafael-leao-est-titulaire-avec-lille-s-boue-l-equipe/1500000001061148/0:0,2000:1333-624-416-75/4d42a.jpg', 'publishedAt': '2018-12-09T15:34:00+00:00', 'content': \"Trois jours après son succès à Montpellier (1-0), Lille affronte Reims en Ligue 1 (17 heures) avec Rafael Leão à la pointe de l'attaque du 4-2-3-1. Christophe Galtier, l'entraîneur du dauphin du PSG, qui a également titularisé Luiz Araujo, a laissé sur le ban… [+384 chars]\"})\n",
      "###############################################\n",
      "(7, {'source': {'id': 'lequipe', 'name': \"L'equipe\"}, 'author': \"L'EQUIPE\", 'title': 'Euro 2018 : les Bleues tenues en échec par la Suède', 'description': \"Au bout d'un duel étouffant, l'équipe de France a concédé le nul face à la Suède (21-21), dimanche à Nantes, et devra impérativement l'emporter contre la Serbie mercredi pour jouer les demies.\", 'url': 'https://www.lequipe.fr/Handball/Actualites/Euro-2018-les-bleues-tenues-en-echec-par-la-suede/966781', 'urlToImage': 'https://medias.lequipe.fr/img-photo-jpg/la-france-a-bute-sur-la-defense-suedoise-e-garnier-l-equipe/1500000001061147/0:0,2000:1333-624-416-75/0610c.jpg', 'publishedAt': '2018-12-09T15:32:00+00:00', 'content': \"Avec un jour de retard en raison du mouvement des gilets jaunes, l'équipe de France est passée au révélateur suédois ce dimanche, un match piégeux face à une équipe au bord du gouffre et qui n'avait plus rien à perdre. «Ça fait quelques matches qu'on les joue… [+2473 chars]\"})\n",
      "###############################################\n",
      "(8, {'source': {'id': 'lequipe', 'name': \"L'equipe\"}, 'author': \"L'EQUIPE\", 'title': 'Les Rangers ratent l&#039;occasion de revenir sur le Celtic', 'description': 'Les Glasgow Rangers de Steven Gerrard ont été tenus en échec dimanche par Dundee (1-1) et restent à deux points de leurs rivaux du Celtic.', 'url': 'https://www.lequipe.fr/Football/Actualites/Les-rangers-ratent-l-occasion-de-revenir-sur-le-celtic/966780', 'urlToImage': 'https://medias.lequipe.fr/img-photo-jpg/les-rangers-de-gerrard-restent-a-deux-points-du-celtic-f-mons-l-equipe/1500000001061146/0:0,2000:1333-624-416-75/0b5cb.jpg', 'publishedAt': '2018-12-09T15:32:00+00:00', 'content': \"Les Rangers avaient l'occasion dimanche de revenir sur le Celtic. Ils n'ont pas su la saisir contre Dundee (1-1). Menés au score dès la 9e minute sur un but du vétéran Kenny Miller (38 ans), ils ont évolué à onze contre dix pendant plus d'une heure à la suite… [+250 chars]\"})\n",
      "###############################################\n",
      "(9, {'source': {'id': 'lequipe', 'name': \"L'equipe\"}, 'author': \"L'EQUIPE\", 'title': 'Saint-Etienne : 10 jours de repos au moins pour Neven Subotic', 'description': 'Après son traumatisme crânien contre Bordeaux, le défenseur de Saint-Étienne Neven Subotic va être au repos pendant au moins 10 jours.', 'url': 'https://www.lequipe.fr/Football/Actualites/Saint-etienne-10-jours-de-repos-au-moins-pour-neven-subotic/966777', 'urlToImage': 'https://medias.lequipe.fr/img-photo-jpg/neven-subotic-sera-au-repos-10-jours-n-luttiau-l-equipe/1500000001061138/0:0,1995:1330-624-416-75/5e952.jpg', 'publishedAt': '2018-12-09T15:18:00+00:00', 'content': \"Victime d'un traumatisme crânien mercredi à Bordeaux, Neven Subotic devra observer une période de repos de dix jours, selon un communiqué publié sur le site de Saint-Etienne, ce dimanche. Le défenseur central a été ausculté à Clermont-Ferrand par un neurologu… [+599 chars]\"})\n"
     ]
    }
   ],
   "source": [
    "# And now we have lists in dictionaries it's json but it's always the same thing\n",
    "# We will discover the information of the article key\n",
    "for elem in enumerate(dic['articles']):\n",
    "    print('###############################################')\n",
    "    print(elem)"
   ]
  },
  {
   "cell_type": "code",
   "execution_count": 128,
   "metadata": {},
   "outputs": [
    {
     "name": "stdout",
     "output_type": "stream",
     "text": [
      " Cle :  source Values :  {'id': 'lequipe', 'name': \"L'equipe\"}\n",
      " Cle :  author Values :  L'EQUIPE\n",
      " Cle :  title Values :  Real Madrid : Gareth Bale met fin à sa disette d&#039;une belle reprise de volée face à Huesca (vidéo)\n",
      " Cle :  description Values :  L'attaquant du Real Madrid Gareth Bale a mis fin ce dimance à sa disette en Liga en ouvrant le score face à Huesca d'une belle reprise.\n",
      " Cle :  url Values :  https://www.lequipe.fr/Football/Actualites/Real-madrid-gareth-bale-met-fin-a-sa-disette-d-une-belle-reprise-de-volee-face-a-huesca-video/966796\n",
      " Cle :  urlToImage Values :  https://medias.lequipe.fr/img-photo-jpg/-oscar-j-barroso-oscar-j-barroso-afp7/1500000001061170/0:0,2000:1333-624-416-75/cb91a.jpg\n",
      " Cle :  publishedAt Values :  2018-12-09T16:02:00+00:00\n",
      " Cle :  content Values :  801 minutes. C'est le temps de jeu qui séparait le dernier but de Gareth Bale en Liga de celui qu'il a inscrit ce dimanche en ouvrant le score sur le terrain d'Huesca. Le Gallois a repris de belle manière un centre d'Odriozola pour mettre fin à sa disette (8e… [+1 chars]\n"
     ]
    }
   ],
   "source": [
    "# So if we keep going, it gives us another dictionary!\n",
    "for elem in dic['articles'][0].keys():\n",
    "    print(' Key : ',elem,'Values : ',dic['articles'][0][elem])"
   ]
  },
  {
   "cell_type": "markdown",
   "metadata": {},
   "source": [
    "### Make a script that allows you to take details of the last ten news from the team or another site. Store them in a nice csv or excel file"
   ]
  },
  {
   "cell_type": "code",
   "execution_count": null,
   "metadata": {
    "collapsed": true
   },
   "outputs": [],
   "source": []
  }
 ],
 "metadata": {
  "kernelspec": {
   "display_name": "Python 3",
   "language": "python",
   "name": "python3"
  },
  "language_info": {
   "codemirror_mode": {
    "name": "ipython",
    "version": 3
   },
   "file_extension": ".py",
   "mimetype": "text/x-python",
   "name": "python",
   "nbconvert_exporter": "python",
   "pygments_lexer": "ipython3",
   "version": "3.7.1"
  }
 },
 "nbformat": 4,
 "nbformat_minor": 2
}
