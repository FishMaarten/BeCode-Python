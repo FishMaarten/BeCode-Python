{
 "cells": [
  {
   "cell_type": "markdown",
   "metadata": {},
   "source": [
    "# The data structure"
   ]
  },
  {
   "cell_type": "markdown",
   "metadata": {},
   "source": [
    "The data structure is the way we store and structure our data. It's really important because it will define how your functions and machine learning system will be able to access your data. It can be done in one line or it can be a real mess with 10 function just to format you data and feed you model correctly."
   ]
  },
  {
   "cell_type": "markdown",
   "metadata": {},
   "source": [
    "## The problem"
   ]
  },
  {
   "cell_type": "markdown",
   "metadata": {},
   "source": [
    "Let's say we have a super model that recognizes faces from an image. You want to store that in a structured way so we can plot our results, store them in a DB, create a script that show us all the faces detected to calculate accuracy etc..."
   ]
  },
  {
   "cell_type": "markdown",
   "metadata": {},
   "source": [
    "## Solutions"
   ]
  },
  {
   "cell_type": "code",
   "execution_count": 41,
   "metadata": {},
   "outputs": [],
   "source": [
    "from typing import List, Dict"
   ]
  },
  {
   "cell_type": "markdown",
   "metadata": {},
   "source": [
    "### Dictionary"
   ]
  },
  {
   "cell_type": "markdown",
   "metadata": {},
   "source": [
    "The first idea that you could have is to create a dictionary :"
   ]
  },
  {
   "cell_type": "code",
   "execution_count": 24,
   "metadata": {},
   "outputs": [
    {
     "data": {
      "text/plain": [
       "240000"
      ]
     },
     "execution_count": 24,
     "metadata": {},
     "output_type": "execute_result"
    }
   ],
   "source": [
    "# A dict to store your data\n",
    "my_image: dict = {\n",
    "    \"name\": \"image 1\",\n",
    "    \"height\": 800,\n",
    "    \"width\": 300,\n",
    "    \"resolution\": 800 * 300,\n",
    "    \"face_detected\": [\n",
    "        {\"x0\": 10, \"x1\": 60, \"y0\": 200, \"y1\": 250},\n",
    "        {\"x0\": 10, \"x1\": 60, \"y0\": 300, \"y1\": 350},\n",
    "    ],\n",
    "    \"confidence_score\": 1.0\n",
    "}\n",
    "\n",
    "my_image[\"resolution\"]"
   ]
  },
  {
   "cell_type": "markdown",
   "metadata": {},
   "source": [
    "It works but you have to type each element (at least not easily), you will need to create a new dictionary each time, it leaves a chance to make easy mistakes like typos. It's not a good data structure if you're gonna use it often."
   ]
  },
  {
   "cell_type": "markdown",
   "metadata": {},
   "source": [
    "### Class"
   ]
  },
  {
   "cell_type": "markdown",
   "metadata": {},
   "source": [
    "That's when you will think of a class! You create a class that contains your data fields, then you just have to instantiate it.\n",
    "You can even type each property! It look like the perfect fit your issue."
   ]
  },
  {
   "cell_type": "code",
   "execution_count": 34,
   "metadata": {},
   "outputs": [
    {
     "data": {
      "text/plain": [
       "240000"
      ]
     },
     "execution_count": 34,
     "metadata": {},
     "output_type": "execute_result"
    }
   ],
   "source": [
    "class Image:\n",
    "    \"\"\"Class that store the image's data.\"\"\"\n",
    "    def __init__(\n",
    "        self,\n",
    "        name: str,\n",
    "        height: int,\n",
    "        width: int,\n",
    "        score: int,\n",
    "        face_detected: List[Dict[str, int]]\n",
    "    ):\n",
    "\n",
    "        self.name = name\n",
    "        self.height = height\n",
    "        self.width = width\n",
    "        self.score = score\n",
    "        face_detected = face_detected\n",
    "        self.resulotion = self.height * self.width\n",
    "\n",
    "        \n",
    "faces = [\n",
    "    {\"x0\": 10, \"x1\": 60, \"y0\": 200, \"y1\": 250},\n",
    "    {\"x0\": 10, \"x1\": 60, \"y0\": 300, \"y1\": 350},\n",
    "]\n",
    "# Instanciate an Image\n",
    "my_image = Image(name=\"image 1\", height=800, width=300, score=10, face_detected=faces)\n",
    "\n",
    "my_image.resulotion"
   ]
  },
  {
   "cell_type": "markdown",
   "metadata": {},
   "source": [
    "In one hand the syntax isn't great, it's heavy, it's big and you will have to define a lot of them to store all kinds of data, you can end up with a file that contains thousands of lines.\n",
    "In the other hand, you can keep control on your data, if an Image is instanciate without a height, it will raise an error.\n",
    "\n",
    "Classes have another super feature, you can create attributes made of other attributes."
   ]
  },
  {
   "cell_type": "markdown",
   "metadata": {},
   "source": [
    "### Dataclass"
   ]
  },
  {
   "cell_type": "markdown",
   "metadata": {},
   "source": [
    "Fortunatly, Python have an answer to this heavy syntax and it's called dataclass. Dataclass is a decorator allowing you to create class with a simple and short syntax."
   ]
  },
  {
   "cell_type": "code",
   "execution_count": 42,
   "metadata": {},
   "outputs": [
    {
     "data": {
      "text/plain": [
       "10"
      ]
     },
     "execution_count": 42,
     "metadata": {},
     "output_type": "execute_result"
    }
   ],
   "source": [
    "from dataclasses import dataclass\n",
    "\n",
    "@dataclass\n",
    "class Image:\n",
    "    \"\"\"Class that store the image's data.\"\"\"\n",
    "    name: str\n",
    "    height: int\n",
    "    width: int\n",
    "    score: int\n",
    "    face_detected: List[Dict[str, int]]\n",
    "    resolution: int\n",
    "\n",
    "\n",
    "faces = [\n",
    "    {\"x0\": 10, \"x1\": 60, \"y0\": 200, \"y1\": 250},\n",
    "    {\"x0\": 10, \"x1\": 60, \"y0\": 300, \"y1\": 350},\n",
    "]\n",
    "# Instanciate an Image\n",
    "my_image = Image(name=\"image 1\", height=800, width=300, score=10, resolution= 800 * 300, face_detected=faces)\n",
    "\n",
    "my_image.face_detected[0][\"x0\"]"
   ]
  },
  {
   "cell_type": "markdown",
   "metadata": {},
   "source": [
    "It is a perfect fit because there is no relation between attributes. If we didn't use the resolution attribute, it would be better to use a dataclass than a regular class."
   ]
  },
  {
   "cell_type": "markdown",
   "metadata": {},
   "source": [
    "### Named tuple"
   ]
  },
  {
   "cell_type": "markdown",
   "metadata": {},
   "source": [
    "The named tuple is clearly a bad use here because it only allows us to create a tuple that have attributes and can be called like a class. but it's good to store small data. It is what we need for our faces coordinate!"
   ]
  },
  {
   "cell_type": "code",
   "execution_count": 43,
   "metadata": {},
   "outputs": [
    {
     "data": {
      "text/plain": [
       "10"
      ]
     },
     "execution_count": 43,
     "metadata": {},
     "output_type": "execute_result"
    }
   ],
   "source": [
    "from collections import namedtuple\n",
    "\n",
    "Coordinate = namedtuple('Coordinate', ['x0', 'x1', 'y0', 'y1'])\n",
    "\n",
    "faces = [\n",
    "    Coordinate(10, 60, 200, 250),\n",
    "    Coordinate(10, 60, 300, 350),\n",
    "]\n",
    "\n",
    "faces[0].x0"
   ]
  },
  {
   "cell_type": "markdown",
   "metadata": {},
   "source": [
    "### Merge solutions"
   ]
  },
  {
   "cell_type": "markdown",
   "metadata": {},
   "source": [
    "We can of course merge multiple datatypes to fit our needs!\n",
    "\n",
    "For exemple here my choice is a class mixed to a namedtuple:"
   ]
  },
  {
   "cell_type": "code",
   "execution_count": 40,
   "metadata": {},
   "outputs": [
    {
     "data": {
      "text/plain": [
       "10"
      ]
     },
     "execution_count": 40,
     "metadata": {},
     "output_type": "execute_result"
    }
   ],
   "source": [
    "Coordinate = namedtuple('Coordinate', ['x0', 'x1', 'y0', 'y1'])\n",
    "\n",
    "class ImageFinal:\n",
    "    \"\"\"Class that store the image's data.\"\"\"\n",
    "    def __init__(\n",
    "        self,\n",
    "        name: str,\n",
    "        height: int,\n",
    "        width: int,\n",
    "        score: int,\n",
    "        face_detected: Optional[Coordinate]\n",
    "    ):\n",
    "\n",
    "        self.name = name\n",
    "        self.height = height\n",
    "        self.width = width\n",
    "        self.score = score\n",
    "        self.face_detected = face_detected\n",
    "        self.resulotion = self.height * self.width\n",
    "\n",
    "\n",
    "faces = [\n",
    "    Coordinate(10, 60, 200, 250),\n",
    "    Coordinate(10, 60, 300, 350),\n",
    "]\n",
    "\n",
    "my_image = ImageFinal(name=\"image 1\", height=800, width=300, score=10, face_detected=faces)\n",
    "\n",
    "my_image.face_detected[0].x0"
   ]
  },
  {
   "cell_type": "markdown",
   "metadata": {},
   "source": [
    "## Conclusion"
   ]
  },
  {
   "cell_type": "markdown",
   "metadata": {},
   "source": [
    "99% of the time, the best solution will be to mix multiple data structure to obtain something easy to read, to use and store. Also, don't forget that the perfect solution doesn't exist! It's all a matter of choice!\n",
    "\n",
    "A good indicator you need to use a different data strucure is when you're adding type to your code and you come to something like this:"
   ]
  },
  {
   "cell_type": "code",
   "execution_count": null,
   "metadata": {},
   "outputs": [],
   "source": [
    "data: Dict[str, List[Dict[str, Dict[str, Tuple[int]]]] = ..."
   ]
  },
  {
   "cell_type": "markdown",
   "metadata": {},
   "source": [
    "It's still simple but you could also have multiple possibilities in your second dictionary so you have to use the Union type and so on. If you start to have a very confusing structure, then you probably need to use a different datastructre!"
   ]
  },
  {
   "cell_type": "markdown",
   "metadata": {},
   "source": [
    "## Additional resouces"
   ]
  },
  {
   "cell_type": "markdown",
   "metadata": {},
   "source": [
    "Make sure to have a look to these resources:\n",
    "* https://docs.python.org/3/library/collections.html\n",
    "* https://docs.python.org/3/tutorial/datastructures.html\n",
    "* https://www.edureka.co/blog/data-structures-in-python/"
   ]
  }
 ],
 "metadata": {
  "kernelspec": {
   "display_name": "Python 3",
   "language": "python",
   "name": "python3"
  },
  "language_info": {
   "codemirror_mode": {
    "name": "ipython",
    "version": 3
   },
   "file_extension": ".py",
   "mimetype": "text/x-python",
   "name": "python",
   "nbconvert_exporter": "python",
   "pygments_lexer": "ipython3",
   "version": "3.7.3"
  }
 },
 "nbformat": 4,
 "nbformat_minor": 4
}
