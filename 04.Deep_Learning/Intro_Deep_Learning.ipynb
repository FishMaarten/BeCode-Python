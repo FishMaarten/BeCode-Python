{
 "cells": [
  {
   "cell_type": "markdown",
   "metadata": {},
   "source": [
    "# Introduction"
   ]
  },
  {
   "cell_type": "markdown",
   "metadata": {},
   "source": [
    "**Deep learning** is a branch of machine learning which is completely based on **artificial neural networks**, as neural network is going to mimic the human brain so deep learning is also a kind of mimic of human brain. In deep learning, we don’t need to explicitly program everything. The concept of deep learning is not new. It has been around for a couple of years now. It’s on hype nowadays because earlier we did not have that much processing power and a lot of data. As in the last 20 years, the processing power increases exponentially, deep learning and machine learning came in the picture.\n",
    "\n",
    "Deep Learning is at the cutting edge of what machines can do, and developers and business leaders absolutely need to understand what it is and how it works. This unique type of algorithm has far surpassed any previous benchmarks for classification of images, text, and voice.\n",
    "\n",
    "It also powers some of the most interesting applications in the world, like autonomous vehicles and real-time translation. There was certainly a bunch of excitement around Google’s Deep Learning based AlphaGo beating the best Go player in the world, but the business applications for this technology are more immediate and potentially more impactful.\n",
    "\n",
    "Deep learning is a specific subset of Machine Learning, which is a specific subset of Artificial Intelligence. For individual definitions:\n",
    "\n",
    " - Artificial Intelligence is the broad mandate of creating machines that can think intelligently\n",
    " \n",
    " \n",
    " - Machine Learning is one way of doing that, by using algorithms to glean insights from data (see our gentle introduction here)\n",
    " \n",
    " \n",
    "- Deep Learning is one way of doing that, using a specific algorithm called a Neural Network\n",
    "\n",
    "\n",
    "\n",
    "Don’t get lost in the taxonomy – Deep Learning is just a type of algorithm that seems to work really well for predicting things. Deep Learning and Neural Nets, for most purposes, are effectively synonymous. If people try to confuse you and argue about technical definitions, don’t worry about it: like Neural Nets, labels can have many layers of meaning.\n",
    "\n"
   ]
  },
  {
   "cell_type": "markdown",
   "metadata": {},
   "source": [
    "## Architectures :\n",
    "\n",
    " 1. **Deep Neural Network** – It is a neural network with a certain level of complexity (having multiple hidden layers in between input and output layers). They are capable of modeling and processing non-linear relationships.\n",
    " \n",
    " \n",
    " 2. **Deep Belief Network(DBN)** – It is a class of Deep Neural Network. It is multi-layer belief networks.\n",
    "        Steps for performing DBN :\n",
    "            a. Learn a layer of features from visible units using Contrastive Divergence algorithm.\n",
    "            b. Treat activations of previously trained features as visible units and then learn features of features.\n",
    "            c. Finally, the whole DBN is trained when the learning for the final hidden layer is achieved.\n",
    "\n",
    " 3. **Recurrent (perform same task for every element of a sequence) Neural Network** – Allows for parallel and sequential computation. Similar to the human brain (large feedback network of connected neurons). They are able to remember important things about the input they received and hence enables them to be more precise."
   ]
  },
  {
   "cell_type": "markdown",
   "metadata": {},
   "source": [
    "## Difference between Machine Learning and Deep Learning :"
   ]
  },
  {
   "cell_type": "markdown",
   "metadata": {},
   "source": [
    "| Machine Learning |   Deep Learning    |\n",
    "|:------------------|:--------------------|\n",
    "|Works on small amount of Dataset for accuracy.\t   |Works on Large amount of Dataset.    |\n",
    "|  Dependent on Low-end Machine.\t   | Heavily dependent on High-end Machine.    |  \n",
    "|  Divides the tasks into sub-tasks, solves them individually and finally combine the results.| Solves problem end to end.| \n",
    "|  Takes less time to train.\t  | Takes longer time to train.   |  \n",
    "|  Testing time may increase.\t   | Less time to test the data.   |  \n",
    " "
   ]
  },
  {
   "cell_type": "markdown",
   "metadata": {},
   "source": [
    "## How does it works?\n",
    "\n",
    "First, we need to identify the actual problem in order to get the right solution and it should be understood, the feasibility of the Deep Learning should also be checked (whether it should fit Deep Learning or not). Second, we need to identify the relevant data which should correspond to the actual problem and should be prepared accordingly. Third, Choose the Deep Learning Algorithm appropriately. Fourth, Algorithm should be used while training the dataset. Fifth, Final testing should be done on the dataset.\n",
    "\n",
    "![](assets/workflow_dl.jpg)"
   ]
  },
  {
   "cell_type": "markdown",
   "metadata": {},
   "source": [
    "## Applications\n",
    "\n",
    "There are a lot of sectors that Deep Learning can be applied. Some of them are:\n",
    "\n",
    "1. Automatic Text Generation – Corpus of text is learned and from this model new text is generated, word-by-word or character-by-character.Then this model is capable of learning how to spell, punctuate, form sentences, or it may even capture the style.\n",
    "\n",
    "\n",
    "2. Healthcare – Helps in diagnosing various diseases and treating it.\n",
    "\n",
    "\n",
    "3. Automatic Machine Translation – Certain words, sentences or phrases in one language is transformed into another language (Deep Learning is achieving top results in the areas of text, images).\n",
    "\n",
    "\n",
    "4. Image Recognition – Recognizes and identifies peoples and objects in images as well as to understand content and context. This area is already being used in Gaming, Retail, Tourism, etc.\n",
    "\n",
    "\n",
    "5. Predicting Earthquakes – Teaches a computer to perform viscoelastic computations which are used in predicting earthquakes"
   ]
  },
  {
   "cell_type": "markdown",
   "metadata": {},
   "source": [
    "## Why is Deep Learning important?\n",
    "\n",
    "Deep Learning is important for one reason, and one reason only: we’ve been able to achieve meaningful, useful accuracy on tasks that matter. Machine Learning has been used for classification on images and text for decades, but it struggled to cross the threshold – there’s a baseline accuracy that algorithms need to have to work in business settings. Deep Learning is finally enabling us to cross that line in places we weren’t able to before.\n",
    "\n",
    "![](assets/reasoning.jpg)\n",
    "\n",
    "**Computer vision** is a great example of a task that Deep Learning has transformed into something realistic for business applications. Using Deep Learning to classify and label images isn’t only better than any other traditional algorithms: it’s starting to be better than actual humans.\n",
    "\n",
    "Facebook has had great success with identifying [faces in photographs](https://research.fb.com/blog/2016/08/learning-to-segment/) by using Deep Learning. It’s not just a marginal improvement, but a game changer: “Asked whether two unfamiliar photos of faces show the same person, a human being will get it right 97.53 percent of the time. New software developed by researchers at Facebook can score 97.25 percent on the same challenge, regardless of variations in lighting or whether the person in the picture is directly facing the camera.”\n",
    "\n",
    "Speech recognition is a another area that has felt Deep Learning’s impact. Spoken languages are so vast and ambiguous. Baidu – one of the leading search engines of China – has developed a voice recognition system that is faster and more accurate than humans at producing text on a mobile phone; in both English and Mandarin.\n",
    "\n",
    "Google is now using deep learning to [manage the energy at the company’s data centers](https://www.vox.com/2016/7/19/12231776/google-energy-deepmind-ai-data-centers). They’ve cut their energy needs for cooling by 40%. That translates to about a 15% improvement in power usage efficiency for the company and hundreds of millions of dollars in savings.\n",
    "\n",
    "Deep Learning is important because it finally makes these tasks accessible – it brings previously irrelevant workloads into the purview of Machine Learning. We’re just at the cusp of developers and business leaders understanding how they can use Machine Learning to drive business outcomes, and having more available tasks at your fingertips because of Deep Learning is going to transform the economy for decades to come."
   ]
  },
  {
   "cell_type": "markdown",
   "metadata": {},
   "source": [
    "## Software and Frameworks\n",
    "\n",
    "\n",
    "Many of the advances in practical applications of Deep Learning have been led by the widespread availability of robust open-source software packages. These let developers onboard easily and efficiently, which expands the number of people actively pushing development forward.\n",
    "\n",
    "As Data Science in general has been moving more towards Python lately, most of these packages are most developed for that language.\n",
    "\n",
    "**TensorFlow** – “TensorFlow™ is an open source software library for numerical computation using data flow graphs. Nodes in the graph represent mathematical operations, while the graph edges represent the multidimensional data arrays (tensors) communicated between them. The flexible architecture allows you to deploy computation to one or more CPUs or GPUs in a desktop, server, or mobile device with a single API.”\n",
    "\n",
    "**Caffe** – “Caffe2 aims to provide an easy and straightforward way for you to experiment with deep learning and leverage community contributions of new models and algorithms. You can bring your creations to scale using the power of GPUs in the cloud or to the masses on mobile with Caffe2’s cross-platform libraries.”\n",
    "\n",
    "**Torch** – “Torch is a scientific computing framework with wide support for machine learning algorithms that puts GPUs first. It is easy to use and efficient, thanks to an easy and fast scripting language, LuaJIT, and an underlying C/CUDA implementation.”\n",
    "\n",
    "**Theano** (used by many of the above) – “Theano is a Python library that lets you to define, optimize, and evaluate mathematical expressions, especially ones with multi-dimensional arrays (numpy.ndarray). Using Theano it is possible to attain speeds rivaling hand-crafted C implementations for problems involving large amounts of data. It can also surpass C on a CPU by many orders of magnitude by taking advantage of recent GPUs.”\n",
    "\n",
    "**ConvNetJS** – “ConvNetJS is a Javascript library for training Deep Learning models (Neural Networks) entirely in your browser. Open a tab and you’re training. No software requirements, no compilers, no installations, no GPUs, no sweat.”"
   ]
  },
  {
   "cell_type": "markdown",
   "metadata": {},
   "source": [
    "### Limitations \n",
    "\n",
    "\n",
    " - Learning through observations only.\n",
    " - The issue of biases.\n",
    "\n",
    "### Pros \n",
    "\n",
    " - Best in-class performance on problems.\n",
    " - Reduces need for feature engineering.\n",
    " - Eliminates unnecessary costs.\n",
    " - Identifies defects easily that are difficult to detect.\n",
    "\n",
    "\n",
    "### Cons\n",
    "\n",
    " - Large amount of data required.\n",
    " - Computationally expensive to train.\n",
    " - No strong theoretical foundation."
   ]
  },
  {
   "cell_type": "markdown",
   "metadata": {},
   "source": [
    "### Useful links:\n",
    "   - https://machinelearningmastery.com/what-is-deep-learning/\n",
    "   - http://deeplearning.net/\n",
    "   - https://www.investopedia.com/terms/d/deep-learning.asp\n",
    "   - https://www.technologyreview.com/2014/03/17/13822/facebook-creates-software-that-matches-faces-almost-as-well-as-you-do/"
   ]
  }
 ],
 "metadata": {
  "kernelspec": {
   "display_name": "Python 3",
   "language": "python",
   "name": "python3"
  },
  "language_info": {
   "codemirror_mode": {
    "name": "ipython",
    "version": 3
   },
   "file_extension": ".py",
   "mimetype": "text/x-python",
   "name": "python",
   "nbconvert_exporter": "python",
   "pygments_lexer": "ipython3",
   "version": "3.7.5"
  }
 },
 "nbformat": 4,
 "nbformat_minor": 2
}
