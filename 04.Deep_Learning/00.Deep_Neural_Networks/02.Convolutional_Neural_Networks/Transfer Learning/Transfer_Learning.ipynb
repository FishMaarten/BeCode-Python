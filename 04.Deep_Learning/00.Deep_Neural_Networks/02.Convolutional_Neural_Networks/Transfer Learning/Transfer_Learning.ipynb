{
 "cells": [
  {
   "cell_type": "markdown",
   "metadata": {
    "colab_type": "text",
    "id": "dMtzBNMJs8-s"
   },
   "source": [
    "# Transfer learning in CNN\n",
    "\n",
    "Welcome to this new chapter in CNN.\n",
    "Here you will learn how to use a trained model to stimulate the learning of your own model.\n",
    "\n",
    "This course is divided into three steps:\n",
    "\n",
    "1.   Import and implement a pre-train model in our own model.\n",
    "2.   Freeze layers in the pre-train model\n",
    "3.   Use your own previous models to improve the precision of a brand new one.\n",
    "\n",
    "\n",
    "## General introduction\n",
    "\n",
    "Have you heard of the term \"don't reinvent the wheel\" ?\n",
    "As developers, we are often self determined to create a new application, a new tool or a new software from scratch.\n",
    "However, as much as intriguing and exiting it is, there is a lot of chance that somebody already built your tool in a much better way. Yes, I know it's sad, but there is also a lot of chance that this same tool has been open sourced for you to use freely! Yeah!!!\n",
    "\n",
    "In data science, it is even more the case, as training a model from scratch require a tremendous amount of data requiring weeks of preparations.\n",
    "\n",
    "This is why having the possibility to share knowledge between one model to another became a must, and this phenomenon was baptised: transfer learning\n",
    "\n",
    "\n",
    "#### Transfer learning \n",
    "\n",
    "Transfer learning refer to the situation where what has been learned in one setting … is exploited to improve generalization in another setting.\n",
    "\n",
    "It allows a model trained on one task to be re-purposed on a second related task. It allow rapid progress or improved performance when modeling the second task.\n",
    "\n",
    "\n",
    "Here is the difference between creating your model from scratch and using Transfer learning:\n",
    "\n",
    "Bellow in Strategy 1, we are creating a model from scratch using only on input data and letting or Neural Network do the heavy lifting over all of our layers.\n",
    "\n",
    "however in Strategy 3, We are actualy using a previous model where we **FREEZE** its layers to freeze the weight saved in each layer of the network, then we add the additional layers for our specific use case.\n",
    "\n",
    "![alt text](https://miro.medium.com/max/5994/1*9t7Po_ZFsT5_lZj445c-Lw.png)\n",
    "\n",
    "\n",
    "#### The 3 adventages of using transfer learning \n",
    "\n",
    "\n",
    "\n",
    "1.   **Higher start**: The initial skill (before refining the model) on the new model is higher than it otherwise would be. In order word you get a boost at the intial phase of the training\n",
    "\n",
    "2.   **Higher slope**: The rate of improvement of skill during training of the source model is steeper than it otherwise would be. Using pre-trained layers you use previous learning to increase the speed of your new model learning rate\n",
    "\n",
    "3.   **Higher asymptote**: The converged skill of the trained model is better than it otherwise would be. The predictions are better\n",
    "\n",
    "\n",
    "![alt text](https://3qeqpr26caki16dnhd19sv6by6v-wpengine.netdna-ssl.com/wp-content/uploads/2017/09/Three-ways-in-which-transfer-might-improve-learning.png\n",
    ")\n",
    "\n",
    "\n",
    "\n",
    "\n"
   ]
  },
  {
   "cell_type": "markdown",
   "metadata": {},
   "source": [
    "# Pretrained Models\n",
    "\n",
    "There are quite a few already trained models which we can actually use and fine-tuned them to fit our data set.\n",
    "- https://keras.rstudio.com/articles/applications.html \n",
    "- https://keras.io/api/applications/ \n",
    "- https://www.analyticsvidhya.com/blog/2018/07/top-10-pretrained-models-get-started-deep-learning-part-1-computer-vision/\n",
    "- https://modelzoo.co/"
   ]
  },
  {
   "cell_type": "markdown",
   "metadata": {},
   "source": [
    "Let's jump now on some practical example !\n",
    "\n",
    "![](assets/go_for_it.gif)"
   ]
  }
 ],
 "metadata": {
  "colab": {
   "collapsed_sections": [],
   "name": "Transfer Learning Part1.ipynb",
   "provenance": [],
   "version": "0.3.2"
  },
  "kernelspec": {
   "display_name": "Python 3",
   "language": "python",
   "name": "python3"
  },
  "language_info": {
   "codemirror_mode": {
    "name": "ipython",
    "version": 3
   },
   "file_extension": ".py",
   "mimetype": "text/x-python",
   "name": "python",
   "nbconvert_exporter": "python",
   "pygments_lexer": "ipython3",
   "version": "3.7.5"
  }
 },
 "nbformat": 4,
 "nbformat_minor": 1
}
