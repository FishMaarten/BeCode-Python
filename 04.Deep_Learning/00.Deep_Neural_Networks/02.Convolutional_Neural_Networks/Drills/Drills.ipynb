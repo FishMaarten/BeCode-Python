{
 "cells": [
  {
   "cell_type": "markdown",
   "metadata": {},
   "source": [
    "# Exersice 1 "
   ]
  },
  {
   "cell_type": "markdown",
   "metadata": {},
   "source": [
    "Choose a project (or both :p )\n",
    "- [Hot dog or not](./Hot_dog_or_not)\n",
    "- [Dogs vs Cats](./Cat_or_dog)\n",
    "\n",
    "### Deliverable\n",
    "- Repository to your Github\n",
    "\n",
    "### Deadline\n",
    "- 02/09/2020"
   ]
  },
  {
   "cell_type": "markdown",
   "metadata": {},
   "source": [
    "# Exersice 2\n",
    "\n",
    "Use [the movie dataset](https://www.kaggle.com/rounakbanik/the-movies-dataset) and build a model to answer your questions (ex.movies recommendation system). "
   ]
  },
  {
   "cell_type": "markdown",
   "metadata": {},
   "source": [
    "# Exersice 3\n",
    "\n",
    "Use a dataset of your interest via kaggle and build a model. "
   ]
  },
  {
   "cell_type": "code",
   "execution_count": null,
   "metadata": {},
   "outputs": [],
   "source": []
  }
 ],
 "metadata": {
  "kernelspec": {
   "display_name": "Python 3",
   "language": "python",
   "name": "python3"
  },
  "language_info": {
   "codemirror_mode": {
    "name": "ipython",
    "version": 3
   },
   "file_extension": ".py",
   "mimetype": "text/x-python",
   "name": "python",
   "nbconvert_exporter": "python",
   "pygments_lexer": "ipython3",
   "version": "3.7.5"
  }
 },
 "nbformat": 4,
 "nbformat_minor": 2
}
